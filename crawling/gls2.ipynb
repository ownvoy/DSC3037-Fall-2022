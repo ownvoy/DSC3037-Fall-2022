{
 "cells": [
  {
   "cell_type": "code",
   "execution_count": 2,
   "metadata": {
    "pycharm": {
     "name": "#%%\n"
    }
   },
   "outputs": [],
   "source": [
    "import json\n",
    "from time import sleep\n",
    "\n",
    "from selenium import webdriver\n",
    "from selenium.webdriver.common.by import By\n",
    "from selenium.webdriver.common.keys import Keys\n",
    "\n"
   ]
  },
  {
   "cell_type": "code",
   "execution_count": 3,
   "metadata": {
    "pycharm": {
     "name": "#%%\n"
    }
   },
   "outputs": [],
   "source": [
    "url = \"https://kingoinfo.skku.edu/gaia/nxui/index.html?ticket=GVVsR0gJcOQeScyA\"\n",
    "browser = webdriver.Chrome()\n",
    "browser.get(url)\n",
    "browser.implicitly_wait(3)\n",
    " # 로그인 수동으로 하기\n",
    "# sleep(13)"
   ]
  },
  {
   "cell_type": "code",
   "execution_count": 5,
   "metadata": {
    "pycharm": {
     "name": "#%%\n"
    }
   },
   "outputs": [],
   "source": [
    "browser.find_element(\n",
    "    By.XPATH,\n",
    "    \"/html/body/div/div[1]/div/div/div[1]/div/div/div/div/div/div[1]/div/div/div/div[2]/div/div/div/div[16]/div/div[1]/input\",\n",
    ").send_keys(\"학사-교양\")\n",
    "browser.find_element(\n",
    "    By.XPATH,\n",
    "    \"/html/body/div/div[1]/div/div/div[1]/div/div/div/div/div/div[1]/div/div/div/div[2]/div/div/div/div[16]/div/div[1]/input\",\n",
    ").send_keys(Keys.ENTER)\n",
    "browser.implicitly_wait(3)"
   ]
  },
  {
   "cell_type": "code",
   "execution_count": 7,
   "metadata": {
    "pycharm": {
     "name": "#%%\n"
    }
   },
   "outputs": [],
   "source": [
    "year = browser.find_element(By.XPATH, \"/html/body/div/div[1]/div/div/div[1]/div/div/div/div/div/div[3]/div/div[1]/div/div[2]/div/div[1]/div/div/div/div[3]/div/div[53]/div/div/div/div[2]/div/div[1]/input\")\n",
    "sleep(2)\n",
    "year.clear()\n",
    "year.click()\n",
    "year.send_keys(\"2020학년도 2학기\")\n",
    "sleep(2)\n",
    "year.send_keys(Keys.ENTER)\n",
    "sleep(2)\n"
   ]
  },
  {
   "cell_type": "code",
   "execution_count": 10,
   "metadata": {
    "pycharm": {
     "name": "#%%\n"
    }
   },
   "outputs": [],
   "source": [
    "for i in range(3,16):\n",
    "    category = browser.find_element(By.XPATH, f\"/html/body/div/div[1]/div/div/div[1]/div/div/div/div/div/div[3]/div/div[1]/div/div[2]/div/div[1]/div/div/div/div[3]/div/div[{i}]/div\")\n",
    "    category.click()\n",
    "    sleep(2)\n",
    "    "
   ]
  },
  {
   "cell_type": "code",
   "execution_count": 31,
   "metadata": {
    "pycharm": {
     "name": "#%%\n"
    }
   },
   "outputs": [
    {
     "ename": "NoSuchElementException",
     "evalue": "Message: no such element: Unable to locate element: {\"method\":\"xpath\",\"selector\":\"/html/body/div/div[1]/div/div/div[1]/div/div/div/div/div/div[3]/div/div[1]/div/div[2]/div/div[1]/div/div/div/div[3]/div/div[31]/div[1]/div[2]/div/div/div[14]/div/div/div\"}\n  (Session info: chrome=106.0.5249.119)\nStacktrace:\nBacktrace:\n\tOrdinal0 [0x01021ED3+2236115]\n\tOrdinal0 [0x00FB92F1+1807089]\n\tOrdinal0 [0x00EC66FD+812797]\n\tOrdinal0 [0x00EF55DF+1005023]\n\tOrdinal0 [0x00EF57CB+1005515]\n\tOrdinal0 [0x00F27632+1209906]\n\tOrdinal0 [0x00F11AD4+1120980]\n\tOrdinal0 [0x00F259E2+1202658]\n\tOrdinal0 [0x00F118A6+1120422]\n\tOrdinal0 [0x00EEA73D+960317]\n\tOrdinal0 [0x00EEB71F+964383]\n\tGetHandleVerifier [0x012CE7E2+2743074]\n\tGetHandleVerifier [0x012C08D4+2685972]\n\tGetHandleVerifier [0x010B2BAA+532202]\n\tGetHandleVerifier [0x010B1990+527568]\n\tOrdinal0 [0x00FC080C+1837068]\n\tOrdinal0 [0x00FC4CD8+1854680]\n\tOrdinal0 [0x00FC4DC5+1854917]\n\tOrdinal0 [0x00FCED64+1895780]\n\tBaseThreadInitThunk [0x760D6739+25]\n\tRtlGetFullPathName_UEx [0x774B8FD2+1218]\n\tRtlGetFullPathName_UEx [0x774B8F9D+1165]\n",
     "output_type": "error",
     "traceback": [
      "\u001B[1;31m---------------------------------------------------------------------------\u001B[0m",
      "\u001B[1;31mNoSuchElementException\u001B[0m                    Traceback (most recent call last)",
      "\u001B[1;32md:\\DSC3037\\gls2.ipynb Cell 6\u001B[0m in \u001B[0;36m<cell line: 3>\u001B[1;34m()\u001B[0m\n\u001B[0;32m      <a href='vscode-notebook-cell:/d%3A/DSC3037/gls2.ipynb#X10sZmlsZQ%3D%3D?line=8'>9</a>\u001B[0m course\u001B[39m.\u001B[39msend_keys(Keys\u001B[39m.\u001B[39mDOWN)\n\u001B[0;32m     <a href='vscode-notebook-cell:/d%3A/DSC3037/gls2.ipynb#X10sZmlsZQ%3D%3D?line=9'>10</a>\u001B[0m sleep(\u001B[39m2\u001B[39m)\n\u001B[1;32m---> <a href='vscode-notebook-cell:/d%3A/DSC3037/gls2.ipynb#X10sZmlsZQ%3D%3D?line=10'>11</a>\u001B[0m course \u001B[39m=\u001B[39m browser\u001B[39m.\u001B[39;49mfind_element(By\u001B[39m.\u001B[39;49mXPATH, \u001B[39mf\u001B[39;49m\u001B[39m\"\u001B[39;49m\u001B[39m/html/body/div/div[1]/div/div/div[1]/div/div/div/div/div/div[3]/div/div[1]/div/div[2]/div/div[1]/div/div/div/div[3]/div/div[31]/div[1]/div[2]/div/div/div[\u001B[39;49m\u001B[39m{\u001B[39;49;00mj\u001B[39m}\u001B[39;49;00m\u001B[39m]/div/div/div\u001B[39;49m\u001B[39m\"\u001B[39;49m)\n\u001B[0;32m     <a href='vscode-notebook-cell:/d%3A/DSC3037/gls2.ipynb#X10sZmlsZQ%3D%3D?line=11'>12</a>\u001B[0m sleep(\u001B[39m1\u001B[39m)\n\u001B[0;32m     <a href='vscode-notebook-cell:/d%3A/DSC3037/gls2.ipynb#X10sZmlsZQ%3D%3D?line=12'>13</a>\u001B[0m course\u001B[39m.\u001B[39mclick()\n",
      "File \u001B[1;32mc:\\Users\\wj527\\AppData\\Local\\Programs\\Python\\Python310\\lib\\site-packages\\selenium\\webdriver\\remote\\webdriver.py:856\u001B[0m, in \u001B[0;36mWebDriver.find_element\u001B[1;34m(self, by, value)\u001B[0m\n\u001B[0;32m    853\u001B[0m     by \u001B[39m=\u001B[39m By\u001B[39m.\u001B[39mCSS_SELECTOR\n\u001B[0;32m    854\u001B[0m     value \u001B[39m=\u001B[39m \u001B[39m'\u001B[39m\u001B[39m[name=\u001B[39m\u001B[39m\"\u001B[39m\u001B[39m%s\u001B[39;00m\u001B[39m\"\u001B[39m\u001B[39m]\u001B[39m\u001B[39m'\u001B[39m \u001B[39m%\u001B[39m value\n\u001B[1;32m--> 856\u001B[0m \u001B[39mreturn\u001B[39;00m \u001B[39mself\u001B[39;49m\u001B[39m.\u001B[39;49mexecute(Command\u001B[39m.\u001B[39;49mFIND_ELEMENT, {\n\u001B[0;32m    857\u001B[0m     \u001B[39m'\u001B[39;49m\u001B[39musing\u001B[39;49m\u001B[39m'\u001B[39;49m: by,\n\u001B[0;32m    858\u001B[0m     \u001B[39m'\u001B[39;49m\u001B[39mvalue\u001B[39;49m\u001B[39m'\u001B[39;49m: value})[\u001B[39m'\u001B[39m\u001B[39mvalue\u001B[39m\u001B[39m'\u001B[39m]\n",
      "File \u001B[1;32mc:\\Users\\wj527\\AppData\\Local\\Programs\\Python\\Python310\\lib\\site-packages\\selenium\\webdriver\\remote\\webdriver.py:434\u001B[0m, in \u001B[0;36mWebDriver.execute\u001B[1;34m(self, driver_command, params)\u001B[0m\n\u001B[0;32m    432\u001B[0m response \u001B[39m=\u001B[39m \u001B[39mself\u001B[39m\u001B[39m.\u001B[39mcommand_executor\u001B[39m.\u001B[39mexecute(driver_command, params)\n\u001B[0;32m    433\u001B[0m \u001B[39mif\u001B[39;00m response:\n\u001B[1;32m--> 434\u001B[0m     \u001B[39mself\u001B[39;49m\u001B[39m.\u001B[39;49merror_handler\u001B[39m.\u001B[39;49mcheck_response(response)\n\u001B[0;32m    435\u001B[0m     response[\u001B[39m'\u001B[39m\u001B[39mvalue\u001B[39m\u001B[39m'\u001B[39m] \u001B[39m=\u001B[39m \u001B[39mself\u001B[39m\u001B[39m.\u001B[39m_unwrap_value(\n\u001B[0;32m    436\u001B[0m         response\u001B[39m.\u001B[39mget(\u001B[39m'\u001B[39m\u001B[39mvalue\u001B[39m\u001B[39m'\u001B[39m, \u001B[39mNone\u001B[39;00m))\n\u001B[0;32m    437\u001B[0m     \u001B[39mreturn\u001B[39;00m response\n",
      "File \u001B[1;32mc:\\Users\\wj527\\AppData\\Local\\Programs\\Python\\Python310\\lib\\site-packages\\selenium\\webdriver\\remote\\errorhandler.py:243\u001B[0m, in \u001B[0;36mErrorHandler.check_response\u001B[1;34m(self, response)\u001B[0m\n\u001B[0;32m    241\u001B[0m         alert_text \u001B[39m=\u001B[39m value[\u001B[39m'\u001B[39m\u001B[39malert\u001B[39m\u001B[39m'\u001B[39m]\u001B[39m.\u001B[39mget(\u001B[39m'\u001B[39m\u001B[39mtext\u001B[39m\u001B[39m'\u001B[39m)\n\u001B[0;32m    242\u001B[0m     \u001B[39mraise\u001B[39;00m exception_class(message, screen, stacktrace, alert_text)  \u001B[39m# type: ignore[call-arg]  # mypy is not smart enough here\u001B[39;00m\n\u001B[1;32m--> 243\u001B[0m \u001B[39mraise\u001B[39;00m exception_class(message, screen, stacktrace)\n",
      "\u001B[1;31mNoSuchElementException\u001B[0m: Message: no such element: Unable to locate element: {\"method\":\"xpath\",\"selector\":\"/html/body/div/div[1]/div/div/div[1]/div/div/div/div/div/div[3]/div/div[1]/div/div[2]/div/div[1]/div/div/div/div[3]/div/div[31]/div[1]/div[2]/div/div/div[14]/div/div/div\"}\n  (Session info: chrome=106.0.5249.119)\nStacktrace:\nBacktrace:\n\tOrdinal0 [0x01021ED3+2236115]\n\tOrdinal0 [0x00FB92F1+1807089]\n\tOrdinal0 [0x00EC66FD+812797]\n\tOrdinal0 [0x00EF55DF+1005023]\n\tOrdinal0 [0x00EF57CB+1005515]\n\tOrdinal0 [0x00F27632+1209906]\n\tOrdinal0 [0x00F11AD4+1120980]\n\tOrdinal0 [0x00F259E2+1202658]\n\tOrdinal0 [0x00F118A6+1120422]\n\tOrdinal0 [0x00EEA73D+960317]\n\tOrdinal0 [0x00EEB71F+964383]\n\tGetHandleVerifier [0x012CE7E2+2743074]\n\tGetHandleVerifier [0x012C08D4+2685972]\n\tGetHandleVerifier [0x010B2BAA+532202]\n\tGetHandleVerifier [0x010B1990+527568]\n\tOrdinal0 [0x00FC080C+1837068]\n\tOrdinal0 [0x00FC4CD8+1854680]\n\tOrdinal0 [0x00FC4DC5+1854917]\n\tOrdinal0 [0x00FCED64+1895780]\n\tBaseThreadInitThunk [0x760D6739+25]\n\tRtlGetFullPathName_UEx [0x774B8FD2+1218]\n\tRtlGetFullPathName_UEx [0x774B8F9D+1165]\n"
     ]
    }
   ],
   "source": [
    "count = [1,2,18,11,3,1,26,25,25,14,30,40,16]\n",
    "course = browser.find_element(By.XPATH, f\"/html/body/div/div[1]/div/div/div[1]/div/div/div/div/div/div[3]/div/div[1]/div/div[2]/div/div[1]/div/div/div/div[3]/div/div[31]/div[1]/div[2]/div/div/div[2]/div/div/div\")\n",
    "for j in range(2, 20):\n",
    "    if j == 2:\n",
    "        course.click()\n",
    "        sleep(2)\n",
    "        continue\n",
    "    else: \n",
    "        course.send_keys(Keys.DOWN)\n",
    "        sleep(2)\n",
    "        course = browser.find_element(By.XPATH, f\"/html/body/div/div[1]/div/div/div[1]/div/div/div/div/div/div[3]/div/div[1]/div/div[2]/div/div[1]/div/div/div/div[3]/div/div[31]/div[1]/div[2]/div/div/div[{j}]/div/div/div\")\n",
    "        sleep(1)\n",
    "        course.click()\n",
    "        sleep(2)\n",
    "\n",
    "# 고급 영어쓰기\n",
    "# /html/body/div/div[1]/div/div/div[1]/div/div/div/div/div/div[3]/div/div[1]/div/div[2]/div/div[1]/div/div/div/div[3]/div/div[31]/div[1]/div[2]/div/div/div[2]/div/div/div/div\n",
    "# # 글로벌 시대\n",
    "# /html/body/div/div[1]/div/div/div[1]/div/div/div/div/div/div[3]/div/div[1]/div/div[2]/div/div[1]/div/div/div/div[3]/div/div[31]/div[1]/div[2]/div/div/div[3]/div/div/div/div\n",
    "# # 법률 영어\n",
    "# /html/body/div/div[1]/div/div/div[1]/div/div/div/div/div/div[3]/div/div[1]/div/div[2]/div/div[1]/div/div/div/div[3]/div/div[31]/div[1]/div[2]/div/div/div[7]/div/div/div/div\n",
    "# # 영어 발표\n",
    "# /html/body/div/div[1]/div/div/div[1]/div/div/div/div/div/div[3]/div/div[1]/div/div[2]/div/div[1]/div/div/div/div[3]/div/div[31]/div[1]/div[2]/div/div/div[11]/div/div/div/div\n",
    "# # 영어 토론\n",
    "# /html/body/div/div[1]/div/div/div[1]/div/div/div/div/div/div[3]/div/div[1]/div/div[2]/div/div[1]/div/div/div/div[3]/div/div[31]/div[1]/div[2]/div/div/div[12]/div/div/div/div\n",
    "# # 영어회화\n",
    "# /html/body/div/div[1]/div/div/div[1]/div/div/div/div/div/div[3]/div/div[1]/div/div[2]/div/div[1]/div/div/div/div[3]/div/div[31]/div[1]/div[2]/div/div/div[13]/div/div/div/div\n",
    "# # 현대 사회의 인권과 평등\n",
    "# /html/body/div/div[1]/div/div/div[1]/div/div/div/div/div/div[3]/div/div[1]/div/div[2]/div/div[1]/div/div/div/div[3]/div/div[31]/div[1]/div[2]/div/div/div[5]/div/div/div/div\n"
   ]
  },
  {
   "cell_type": "code",
   "execution_count": null,
   "metadata": {
    "pycharm": {
     "name": "#%%\n"
    }
   },
   "outputs": [],
   "source": []
  }
 ],
 "metadata": {
  "kernelspec": {
   "display_name": "Python 3.10.5 64-bit",
   "language": "python",
   "name": "python3"
  },
  "language_info": {
   "codemirror_mode": {
    "name": "ipython",
    "version": 3
   },
   "file_extension": ".py",
   "mimetype": "text/x-python",
   "name": "python",
   "nbconvert_exporter": "python",
   "pygments_lexer": "ipython3",
   "version": "3.10.5"
  },
  "orig_nbformat": 4,
  "vscode": {
   "interpreter": {
    "hash": "d943c1841706f7e42ad6c4fcfbeffee0d2aa5d29ecaff34ba803a084011a3ff5"
   }
  }
 },
 "nbformat": 4,
 "nbformat_minor": 2
}